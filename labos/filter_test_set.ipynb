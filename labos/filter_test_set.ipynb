{
 "cells": [
  {
   "cell_type": "code",
   "execution_count": 1,
   "metadata": {},
   "outputs": [],
   "source": [
    "from notebook_var import column_names, genre_mapping\n",
    "import pandas as pd\n",
    "import torch\n",
    "from torch import nn"
   ]
  },
  {
   "cell_type": "code",
   "execution_count": 2,
   "metadata": {},
   "outputs": [],
   "source": [
    "class MusicClassifier(nn.Module):\n",
    "    def __init__(self, input_features, output_features):\n",
    "        super().__init__()\n",
    "        self.linear_layer_stack = nn.Sequential(\n",
    "            nn.Linear(\n",
    "                in_features=input_features, out_features=256, dtype=torch.float32\n",
    "            ),\n",
    "            nn.GELU(),\n",
    "            nn.Dropout(p=0.2),\n",
    "            nn.Linear(in_features=256, out_features=128, dtype=torch.float32),\n",
    "            nn.GELU(),\n",
    "            nn.Dropout(p=0.2),\n",
    "            nn.Linear(\n",
    "                in_features=128, out_features=output_features, dtype=torch.float32\n",
    "            ),\n",
    "        )\n",
    "\n",
    "    def forward(self, x):\n",
    "        return self.linear_layer_stack(x)"
   ]
  },
  {
   "cell_type": "code",
   "execution_count": 3,
   "metadata": {},
   "outputs": [],
   "source": [
    "def predict(model: MusicClassifier, df: pd.DataFrame, y_df: pd.DataFrame, genre_mapping: dict[int, str]):\n",
    "    # TODO: Rewrite\n",
    "    model.eval()\n",
    "\n",
    "    class_predictions = []\n",
    "    raw_results = []\n",
    "    index_list = []\n",
    "    total_rows, _ = df.shape\n",
    "\n",
    "    for i in range(total_rows):\n",
    "        y_logits = model(\n",
    "            torch.from_numpy(df.iloc[i].to_numpy().reshape(55, 1).transpose()).type(\n",
    "                torch.float32\n",
    "            )\n",
    "        )\n",
    "\n",
    "        y_softmax = torch.softmax(y_logits, dim=1)\n",
    "        y_pred = y_softmax.argmax(dim=1)\n",
    "\n",
    "        # ! Keep data only if correspond to real class !!!!\n",
    "        if (y_df.at[i] == y_pred.detach().numpy()[0]):\n",
    "            index_list.append(i)\n",
    "            raw_results.append(y_softmax.detach().numpy())\n",
    "            class_predictions.append(genre_mapping[y_pred.detach().numpy()[0]])\n",
    "    # !DOnc delete ça ????? \n",
    "    # unique_values = set(class_predictions)\n",
    "    # actual_best = 0\n",
    "    # for elt in unique_values:\n",
    "    #     if class_predictions.count(elt) > actual_best:\n",
    "    #         actual_best = class_predictions.count(elt)\n",
    "    #         prediction = elt\n",
    "    return index_list, raw_results"
   ]
  },
  {
   "cell_type": "code",
   "execution_count": 4,
   "metadata": {},
   "outputs": [
    {
     "name": "stdout",
     "output_type": "stream",
     "text": [
      "648\n",
      "[1, 3, 4, 5, 6, 8, 9, 11, 12, 14, 15, 22, 24, 26, 27, 30, 31, 33, 41, 42, 43, 44, 45, 46, 47, 49, 50, 52, 53, 67, 113, 114, 126, 139, 140, 147, 148, 149, 150, 151, 153, 154, 155, 157, 159, 160, 161, 162, 163, 164, 165, 166, 167, 168, 170, 171, 173, 175, 176, 177, 178, 179, 180, 181, 182, 183, 186, 187, 188, 190, 194, 197, 218, 219, 239, 243, 245, 246, 267, 274, 275, 276, 277, 279, 280, 281, 282, 283, 284, 285, 286, 287, 288, 289, 290, 291, 292, 293, 294, 295, 299, 305, 306, 307, 308, 309, 310, 311, 312, 314, 315, 316, 319, 322, 323, 324, 325, 326, 327, 328, 329, 330, 331, 332, 333, 334, 335, 336, 339, 340, 341, 342, 344, 349, 350, 351, 353, 354, 355, 356, 357, 361, 362, 363, 364, 367, 368, 369, 370, 372, 373, 374, 375, 376, 377, 378, 379, 380, 381, 382, 383, 384, 385, 386, 387, 388, 389, 390, 391, 392, 393, 394, 395, 396, 398, 424, 426, 441, 442, 457, 513, 519, 520, 560, 567, 577, 585, 590, 592, 596, 607, 625, 628, 664, 667, 669, 674, 723, 724, 725, 726, 727, 730, 731, 732, 767, 779, 784, 840, 865, 866, 867, 868, 873, 875, 890, 893, 895, 899, 902, 903, 910, 911, 913, 915, 917, 918, 923, 938, 1046, 1049, 1054, 1057, 1058, 1065, 1066, 1067, 1070, 1071, 1072, 1075, 1076, 1079, 1082, 1087, 1088, 1090, 1170, 1172, 1280, 1285, 1286, 1287, 1507, 1510, 1516, 1517, 1518, 1519, 1523, 1525, 1527, 1613, 1614, 1615, 1616, 1617, 1618, 1619, 1620, 1621, 1622, 1623, 1624, 1625, 1626, 1627, 1628, 1629, 1630, 1631, 1632, 1633, 1634, 1635, 1636, 1637, 1638, 1639, 1640, 1641, 1642, 1643, 1644, 1645, 1646, 1647, 1648, 1649, 1650, 1651, 1652, 1653, 1654, 1655, 1656, 1657, 1658, 1659, 1660, 1661, 1662, 1663, 1664, 1665, 1666, 1667, 1668, 1669, 1673, 1674, 1675, 1676, 1677, 1678, 1679, 1680, 1681, 1682, 1683, 1684, 1685, 1686, 1687, 1688, 1689, 1690, 1691, 1692, 1693, 1694, 1695, 1696, 1697, 1698, 1699, 1700, 1701, 1702, 1703, 1704, 1705, 1706, 1707, 1708, 1709, 1710, 1715, 1716, 1717, 1718, 1719, 1724, 1725, 1726, 1729, 1735, 1736, 1738, 1739, 1746, 1761, 1762, 1763, 1766, 1767, 1768, 1769, 1770, 1771, 1772, 1773, 1774, 1775, 1776, 1779, 1780, 1782, 1784, 1785, 1787, 1789, 1790, 1791, 1792, 1793, 1794, 1796, 1797, 1798, 1799, 1802, 1803, 1804, 1805, 1806, 1807, 1808, 1812, 1814, 1815, 1816, 1818, 1819, 1820, 1822, 1823, 1824, 1825, 1837, 1838, 1839, 1840, 1841, 1842, 1843, 1844, 1845, 1846, 1847, 1848, 1849, 1850, 1852, 1853, 1854, 1855, 1856, 1857, 1858, 1859, 1860, 1861, 1862, 1863, 1866, 1867, 1868, 1869, 1870, 1872, 1873, 1874, 1876, 1878, 1879, 1881, 1882, 1883, 1884, 1885, 1890, 1895, 1896, 1901, 1902, 1904, 1906, 1908, 1911, 1913, 1915, 1926, 1929, 1930, 1939, 1940, 1945, 1946, 1947, 2025, 2113, 2132, 2133, 2137, 2138, 2144, 2145, 2149, 2164, 2194, 2250, 2262, 2263, 2264, 2266, 2278, 2280, 2282, 2299, 2312, 2314, 2316, 2317, 2322, 2323, 2324, 2326, 2330, 2333, 2334, 2338, 2363, 2365, 2373, 2375, 2377, 2379, 2382, 2383, 2387, 2396, 2400, 2433, 2434, 2435, 2442, 2443, 2452, 2453, 2458, 2467, 2470, 2471, 2529, 2558, 2559, 2561, 2562, 2563, 2564, 2565, 2567, 2568, 2569, 2570, 2571, 2576, 2577, 2578, 2581, 2583, 2584, 2585, 2587, 2594, 2595, 2596, 2597, 2601, 2603, 2604, 2606, 2607, 2608, 2609, 2610, 2611, 2612, 2613, 2614, 2615, 2616, 2621, 2626, 2635, 2644, 2648, 2649, 2650, 2651, 2652, 2653, 2654, 2661, 2665, 2666, 2667, 2668, 2669, 2670, 2671, 2672, 2673, 2677, 2678, 2680, 2681, 2682, 2683, 2685, 2686, 2687, 2696, 2697, 2702, 2707, 2710, 2711, 2715, 2716, 2717, 2718, 2720, 2721, 2722, 2723, 2724, 2725, 2726, 2727, 2728, 2729, 2730, 2731, 2732, 2733, 2735, 2736, 2737, 2738, 2739, 2740, 2741, 2742, 2743, 2745, 2746, 2747, 2748, 2749, 2750, 2751, 2752, 2753, 2754, 2755, 2757]\n"
     ]
    }
   ],
   "source": [
    "kept_df = pd.DataFrame(columns=column_names)\n",
    "my_model = MusicClassifier(input_features=55, output_features=10)\n",
    "my_model.load_state_dict(\n",
    "    torch.load(\n",
    "        # f=\"./resources/actual_model_fast.pth\", map_location=torch.device(\"cpu\")\n",
    "        f=\"../resources/actual_model_fast.pth\", map_location=torch.device(\"cpu\")\n",
    "\n",
    "    )\n",
    ")\n",
    "test_dataframe = pd.read_csv(\"./resources/test_set.csv\").drop(columns=['label'])\n",
    "y_test = pd.read_csv(\"./resources/test_set.csv\")['label']\n",
    "index_list, raw_results = predict(my_model, test_dataframe, y_test, genre_mapping)\n",
    "print(len(raw_results))\n",
    "print(index_list)\n",
    "# print(\"result\", result)\n",
    "# print(\"raw_results\", raw_results)"
   ]
  },
  {
   "cell_type": "code",
   "execution_count": 6,
   "metadata": {},
   "outputs": [],
   "source": [
    "# ! Garder seulements les lignes de index list dans test-set-dataframe\n",
    "pd.read_csv(\"./resources/test_set.csv\").iloc[index_list].to_csv(\"./resources/new_test_set.csv\", index=False)"
   ]
  }
 ],
 "metadata": {
  "kernelspec": {
   "display_name": ".venv",
   "language": "python",
   "name": "python3"
  },
  "language_info": {
   "codemirror_mode": {
    "name": "ipython",
    "version": 3
   },
   "file_extension": ".py",
   "mimetype": "text/x-python",
   "name": "python",
   "nbconvert_exporter": "python",
   "pygments_lexer": "ipython3",
   "version": "3.11.5"
  },
  "orig_nbformat": 4
 },
 "nbformat": 4,
 "nbformat_minor": 2
}
